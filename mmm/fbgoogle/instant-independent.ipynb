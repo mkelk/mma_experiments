{
 "cells": [
  {
   "cell_type": "markdown",
   "metadata": {},
   "source": [
    "# Learning with FB-Google\n",
    "Trying to use `pymc-marketing`with simulated data.\n",
    "## Independent and instant\n",
    "No AdStock, no saturation, no causal effect from FB to Google.\n"
   ]
  },
  {
   "cell_type": "markdown",
   "metadata": {},
   "source": [
    "# Part I: Generating data\n",
    "Independent sales instant effect.\n",
    "Following: https://github.com/pymc-labs/pymc-marketing/blob/main/docs/source/notebooks/mmm/mmm_example.ipynb"
   ]
  },
  {
   "cell_type": "code",
   "execution_count": null,
   "metadata": {},
   "outputs": [],
   "source": [
    "import warnings\n",
    "\n",
    "import arviz as az\n",
    "import matplotlib.pyplot as plt\n",
    "import numpy as np\n",
    "import pandas as pd\n",
    "import pymc as pm\n",
    "import seaborn as sns\n",
    "\n",
    "# from pymc_marketing.mmm.delayed_saturated_mmm import MMM\n",
    "# from pymc_marketing.mmm.delayed_saturated_mmm import DelayedSaturatedMMM\n",
    "from pymc_marketing.mmm.transformers import geometric_adstock, logistic_saturation\n",
    "\n",
    "from utilfbgoogle import MelkDelayedSaturatedMMM\n",
    "\n",
    "\n",
    "warnings.filterwarnings(\"ignore\", category=FutureWarning)\n",
    "\n",
    "az.style.use(\"arviz-darkgrid\")\n",
    "plt.rcParams[\"figure.figsize\"] = [12, 7]\n",
    "plt.rcParams[\"figure.dpi\"] = 100\n",
    "\n",
    "%load_ext autoreload\n",
    "%autoreload 2\n",
    "%config InlineBackend.figure_format = \"retina\""
   ]
  },
  {
   "cell_type": "markdown",
   "metadata": {},
   "source": [
    "## Date Range\n",
    "First we set a time range for our data. We consider one year at daily granularity"
   ]
  },
  {
   "cell_type": "code",
   "execution_count": null,
   "metadata": {},
   "outputs": [],
   "source": [
    "seed: int = sum(map(ord, \"mmm\"))\n",
    "rng: np.random.Generator = np.random.default_rng(seed=seed)\n",
    "\n",
    "# date range\n",
    "min_date = pd.to_datetime(\"2024-01-01\")\n",
    "# min_date = pd.to_datetime(\"2024-04-16\")\n",
    "max_date = pd.to_datetime(\"2024-06-30\")\n",
    "\n",
    "df = pd.DataFrame(\n",
    "    data={\"date\": pd.date_range(start=min_date, end=max_date, freq=\"D\")}\n",
    ").assign(\n",
    "    year=lambda x: x[\"date\"].dt.year,\n",
    "    month=lambda x: x[\"date\"].dt.month,\n",
    "    dayofyear=lambda x: x[\"date\"].dt.dayofyear,\n",
    ")\n",
    "\n",
    "n = df.shape[0]\n",
    "print(f\"Number of observations: {n}\")"
   ]
  },
  {
   "cell_type": "markdown",
   "metadata": {},
   "source": [
    "## Media spend\n",
    "- Facebook = `x1`\n",
    "  - Spiky\n",
    "- Google = `x2`\n",
    "  - More uniform"
   ]
  },
  {
   "cell_type": "code",
   "execution_count": null,
   "metadata": {},
   "outputs": [],
   "source": [
    "# media data - spend in thousands\n",
    "x1 = rng.uniform(low=0.0, high=1.0, size=n)\n",
    "df[\"x1\"] = np.where(x1 > 0.9, x1, x1 / 2) * 10\n",
    "\n",
    "x2 = rng.uniform(low=0.0, high=1.0, size=n) * 10 \n",
    "df[\"x2\"] = x2 \n",
    "\n",
    "\n",
    "fig, ax = plt.subplots(\n",
    "    nrows=2, ncols=1, figsize=(10, 7), sharex=True, sharey=True, layout=\"constrained\"\n",
    ")\n",
    "sns.lineplot(x=\"date\", y=\"x1\", data=df, color=\"C0\", ax=ax[0])\n",
    "sns.lineplot(x=\"date\", y=\"x2\", data=df, color=\"C1\", ax=ax[1])\n",
    "ax[1].set(xlabel=\"week\")\n",
    "fig.suptitle(\"Media Costs Data\", fontsize=16);"
   ]
  },
  {
   "cell_type": "markdown",
   "metadata": {},
   "source": [
    "## Target variable"
   ]
  },
  {
   "cell_type": "code",
   "execution_count": null,
   "metadata": {},
   "outputs": [],
   "source": [
    "df[\"intercept\"] = 0.5\n",
    "df[\"epsilon\"] = rng.normal(loc=0.0, scale=0.25, size=n)\n",
    "\n",
    "amplitude = 2.0\n",
    "beta_1 = 0.5\n",
    "beta_2 = 1.0\n",
    "betas = [beta_1, beta_2]\n",
    "\n",
    "\n",
    "df[\"y\"] = amplitude * (\n",
    "    df[\"intercept\"]\n",
    "    + beta_1 * df[\"x1\"]\n",
    "    + beta_2 * df[\"x2\"]\n",
    "    + df[\"epsilon\"]\n",
    ")\n",
    "\n",
    "fig, ax = plt.subplots()\n",
    "sns.lineplot(x=\"date\", y=\"y\", color=\"black\", data=df, ax=ax)\n",
    "ax.set(title=\"Sales (Target Variable)\", xlabel=\"date\", ylabel=\"y (thousands)\");"
   ]
  },
  {
   "cell_type": "markdown",
   "metadata": {},
   "source": [
    "The true contributions that we have embedded in the data are these"
   ]
  },
  {
   "cell_type": "code",
   "execution_count": null,
   "metadata": {},
   "outputs": [],
   "source": [
    "fig, ax = plt.subplots()\n",
    "\n",
    "contributions = (np.array(\n",
    "        [\n",
    "                df[\"intercept\"].sum(),\n",
    "                (beta_1 * df[\"x1\"]).sum(),\n",
    "                (beta_2 * df[\"x2\"]).sum(),\n",
    "        ] \n",
    ") * 2).tolist()\n",
    "\n",
    "ax.bar(\n",
    "    [\"intercept\", \"x1\", \"x2\"],\n",
    "    contributions,\n",
    "    color=[\"C0\" if x >= 0 else \"C3\" for x in contributions],\n",
    "    alpha=0.8,\n",
    ")\n",
    "ax.bar_label(\n",
    "    ax.containers[0],\n",
    "    fmt=\"{:,.2f}\",\n",
    "    label_type=\"edge\",\n",
    "    padding=2,\n",
    "    fontsize=15,\n",
    "    fontweight=\"bold\",\n",
    ")\n",
    "ax.set(title=\"Sales Attribution\", ylabel=\"Sales (thousands)\");"
   ]
  },
  {
   "cell_type": "markdown",
   "metadata": {},
   "source": [
    "## Media Contribution Interpretation\n",
    "From the data generating process we can compute the relative contribution of each channel to the target variable. We will recover these values back from the model."
   ]
  },
  {
   "cell_type": "code",
   "execution_count": null,
   "metadata": {},
   "outputs": [],
   "source": [
    "contribution_share_x1: float = (beta_1 * df[\"x1\"]).sum() / (\n",
    "    beta_1 * df[\"x1\"] + beta_2 * df[\"x2\"]\n",
    ").sum()\n",
    "\n",
    "contribution_share_x2: float = (beta_2 * df[\"x2\"]).sum() / (\n",
    "    beta_1 * df[\"x1\"] + beta_2 * df[\"x2\"]\n",
    ").sum()\n",
    "\n",
    "print(f\"Contribution Share of x1: {contribution_share_x1:.2f}\")\n",
    "print(f\"Contribution Share of x2: {contribution_share_x2:.2f}\")"
   ]
  },
  {
   "cell_type": "markdown",
   "metadata": {},
   "source": [
    "We can obtain the contribution plots for each channel per day where we see the direct relation between spend and ideal contribution"
   ]
  },
  {
   "cell_type": "code",
   "execution_count": null,
   "metadata": {},
   "outputs": [],
   "source": [
    "fig, ax = plt.subplots(\n",
    "    nrows=2, ncols=1, figsize=(12, 8), sharex=True, sharey=False, layout=\"constrained\"\n",
    ")\n",
    "\n",
    "for i, x in enumerate([\"x1\", \"x2\"]):\n",
    "    sns.scatterplot(\n",
    "        x=df[x],\n",
    "        y=betas[i] * df[f\"{x}\"],\n",
    "        color=f\"C{i}\",\n",
    "        ax=ax[i],\n",
    "    )\n",
    "    ax[i].set(\n",
    "        title=f\"$x_{i + 1}$ contribution\",\n",
    "        ylabel=f\"$\\\\beta_{i + 1} \\\\cdot x_{i + 1}$ \",\n",
    "        xlabel=\"x\",\n",
    "    )"
   ]
  },
  {
   "cell_type": "markdown",
   "metadata": {},
   "source": [
    "# Spend and ROAS"
   ]
  },
  {
   "cell_type": "code",
   "execution_count": null,
   "metadata": {},
   "outputs": [],
   "source": [
    "fig, ax = plt.subplots(figsize=(7, 5))\n",
    "df[[\"x1\", \"x2\"]].sum().plot(kind=\"bar\", color=[\"C0\", \"C1\"], ax=ax)\n",
    "ax.set(title=\"Total Media Spend\", xlabel=\"Media Channel\", ylabel=\"Costs (thousands)\");"
   ]
  },
  {
   "cell_type": "markdown",
   "metadata": {},
   "source": [
    "In looking at the ROAS, we directly reccover the betas * amplitude"
   ]
  },
  {
   "cell_type": "code",
   "execution_count": null,
   "metadata": {},
   "outputs": [],
   "source": [
    "roas_1 = (amplitude * beta_1 * df[\"x1\"]).sum() / df[\"x1\"].sum()\n",
    "roas_2 = (amplitude * beta_2 * df[\"x2\"]).sum() / df[\"x2\"].sum()\n",
    "\n",
    "fig, ax = plt.subplots(figsize=(7, 5))\n",
    "(\n",
    "    pd.Series(data=[roas_1, roas_2], index=[\"x1\", \"x2\"]).plot(\n",
    "        kind=\"bar\", color=[\"C0\", \"C1\"]\n",
    "    )\n",
    ")\n",
    "\n",
    "ax.set(title=\"ROAS (Approximation)\", xlabel=\"Media Channel\", ylabel=\"ROAS\");"
   ]
  },
  {
   "cell_type": "markdown",
   "metadata": {},
   "source": [
    "## Data for modeling\n",
    "We keep only what the model should see"
   ]
  },
  {
   "cell_type": "code",
   "execution_count": null,
   "metadata": {},
   "outputs": [],
   "source": [
    "columns_to_keep = [\n",
    "    \"date\",\n",
    "    \"y\",\n",
    "    \"x1\",\n",
    "    \"x2\"\n",
    "]\n",
    "\n",
    "data = df[columns_to_keep].copy()\n",
    "\n",
    "data.head()"
   ]
  },
  {
   "cell_type": "markdown",
   "metadata": {},
   "source": [
    "# Part II: Modeling"
   ]
  },
  {
   "cell_type": "markdown",
   "metadata": {},
   "source": [
    "First, let's compute the share of spend per channel:"
   ]
  },
  {
   "cell_type": "code",
   "execution_count": null,
   "metadata": {},
   "outputs": [],
   "source": [
    "total_spend_per_channel = data[[\"x1\", \"x2\"]].sum(axis=0)\n",
    "\n",
    "spend_share = total_spend_per_channel / total_spend_per_channel.sum()\n",
    "\n",
    "spend_share"
   ]
  },
  {
   "cell_type": "markdown",
   "metadata": {},
   "source": [
    "Find good priors for the sigmas for the channels"
   ]
  },
  {
   "cell_type": "code",
   "execution_count": null,
   "metadata": {},
   "outputs": [],
   "source": [
    "# The scale helpful to make a HalfNormal distribution have unit variance\n",
    "HALFNORMAL_SCALE = 1 / np.sqrt(1 - 2 / np.pi)\n",
    "\n",
    "n_channels = 2\n",
    "\n",
    "prior_sigma = HALFNORMAL_SCALE * n_channels * spend_share.to_numpy()\n",
    "\n",
    "prior_sigma.tolist()"
   ]
  },
  {
   "cell_type": "markdown",
   "metadata": {},
   "source": [
    "Use sklearn convention for input in predictors and data"
   ]
  },
  {
   "cell_type": "code",
   "execution_count": null,
   "metadata": {},
   "outputs": [],
   "source": [
    "X = data.drop(\"y\", axis=1)\n",
    "y = data[\"y\"]"
   ]
  },
  {
   "cell_type": "code",
   "execution_count": null,
   "metadata": {},
   "outputs": [],
   "source": [
    "my_model_config = {\n",
    "    \"saturation_beta\": {\n",
    "        \"dist\": \"LogNormal\",\n",
    "        \"kwargs\": {\"mu\": np.array([2, 1]), \"sigma\": prior_sigma},\n",
    "    },\n",
    "    \"likelihood\": {\n",
    "        \"dist\": \"Normal\",\n",
    "        \"kwargs\": {\n",
    "            \"sigma\": {\"dist\": \"HalfNormal\", \"kwargs\": {\"sigma\": 2}}\n",
    "            # Also possible define sigma as:\n",
    "            # {'sigma': 5}\n",
    "        },\n",
    "    },\n",
    "}"
   ]
  },
  {
   "cell_type": "code",
   "execution_count": null,
   "metadata": {},
   "outputs": [],
   "source": [
    "my_sampler_config = {\"progressbar\": True}"
   ]
  },
  {
   "cell_type": "code",
   "execution_count": null,
   "metadata": {},
   "outputs": [],
   "source": [
    "mmm = MelkDelayedSaturatedMMM(\n",
    "    model_config=my_model_config,\n",
    "    sampler_config=my_sampler_config,\n",
    "    date_column=\"date\",\n",
    "    channel_columns=[\"x1\", \"x2\"],\n",
    "    adstock_max_lag=8,\n",
    ")"
   ]
  },
  {
   "cell_type": "code",
   "execution_count": null,
   "metadata": {},
   "outputs": [],
   "source": [
    "mmm.fit(X=X, y=y, target_accept=0.90, chains=4, cores=4, random_seed=rng)"
   ]
  },
  {
   "cell_type": "code",
   "execution_count": null,
   "metadata": {},
   "outputs": [],
   "source": [
    "pm.model_to_graphviz(model=mmm.model)"
   ]
  },
  {
   "cell_type": "code",
   "execution_count": null,
   "metadata": {},
   "outputs": [],
   "source": [
    "var_names=[\n",
    "        \"intercept\",\n",
    "        \"likelihood_sigma\",\n",
    "        \"beta_channel\",\n",
    "        \"lam\",\n",
    "        \"alpha\"\n",
    "    ]\n",
    "\n",
    "az.summary(\n",
    "    data=mmm.fit_result,\n",
    "    # var_names=[\"beta_channel\"],\n",
    "    var_names=var_names\n",
    ")"
   ]
  },
  {
   "cell_type": "code",
   "execution_count": null,
   "metadata": {},
   "outputs": [],
   "source": [
    "_ = az.plot_trace(\n",
    "    data=mmm.fit_result,\n",
    "    var_names=var_names,\n",
    "    compact=True,\n",
    "    backend_kwargs={\"figsize\": (12, 10), \"layout\": \"constrained\"},\n",
    ")\n",
    "plt.gcf().suptitle(\"Model Trace\", fontsize=16);"
   ]
  },
  {
   "cell_type": "code",
   "execution_count": null,
   "metadata": {},
   "outputs": [],
   "source": [
    "mmm.sample_posterior_predictive(X, extend_idata=True, combined=True)"
   ]
  },
  {
   "cell_type": "code",
   "execution_count": null,
   "metadata": {},
   "outputs": [],
   "source": [
    "mmm.plot_posterior_predictive(original_scale=True);"
   ]
  },
  {
   "cell_type": "code",
   "execution_count": null,
   "metadata": {},
   "outputs": [],
   "source": [
    "mmm.plot_errors(original_scale=True);"
   ]
  },
  {
   "cell_type": "code",
   "execution_count": null,
   "metadata": {},
   "outputs": [],
   "source": [
    "errors = mmm.get_errors(original_scale=True)"
   ]
  },
  {
   "cell_type": "code",
   "execution_count": null,
   "metadata": {},
   "outputs": [],
   "source": [
    "fig, ax = plt.subplots(figsize=(8, 6))\n",
    "az.plot_dist(\n",
    "    errors, quantiles=[0.25, 0.5, 0.75], color=\"C3\", fill_kwargs={\"alpha\": 0.7}, ax=ax\n",
    ")\n",
    "ax.axvline(x=0, color=\"black\", linestyle=\"--\", linewidth=1, label=\"zero\")\n",
    "ax.legend()\n",
    "ax.set(title=\"Errors Posterior Distribution\");"
   ]
  },
  {
   "cell_type": "code",
   "execution_count": null,
   "metadata": {},
   "outputs": [],
   "source": [
    "mmm.plot_components_contributions();"
   ]
  },
  {
   "cell_type": "code",
   "execution_count": null,
   "metadata": {},
   "outputs": [],
   "source": [
    "groups = {\n",
    "    \"Base\": [\n",
    "        \"intercept\",\n",
    "    ],\n",
    "    \"Channel 1\": [\"x1\"],\n",
    "    \"Channel 2\": [\"x2\"],\n",
    "}\n",
    "\n",
    "fig = mmm.plot_grouped_contribution_breakdown_over_time(\n",
    "    stack_groups=groups,\n",
    "    original_scale=True,\n",
    "    area_kwargs={\n",
    "        \"color\": {\n",
    "            \"Channel 1\": \"C0\",\n",
    "            \"Channel 2\": \"C1\",\n",
    "            \"Base\": \"gray\",\n",
    "        },\n",
    "        \"alpha\": 0.7,\n",
    "    },\n",
    ")\n",
    "\n",
    "fig.suptitle(\"Contribution Breakdown over Time\", fontsize=16);"
   ]
  },
  {
   "cell_type": "code",
   "execution_count": null,
   "metadata": {},
   "outputs": [],
   "source": [
    "mmm.plot_waterfall_components_decomposition();"
   ]
  },
  {
   "cell_type": "code",
   "execution_count": null,
   "metadata": {},
   "outputs": [],
   "source": [
    "get_mean_contributions_over_time_df = mmm.compute_mean_contributions_over_time(\n",
    "    original_scale=True\n",
    ")\n",
    "\n",
    "aget_mean_contributions_over_time_df.head()"
   ]
  },
  {
   "cell_type": "code",
   "execution_count": null,
   "metadata": {},
   "outputs": [],
   "source": [
    "alpha1 = 0.005 # dummy\n",
    "alpha2 = 0.006 # dummy\n",
    "\n",
    "fig = mmm.plot_channel_parameter(param_name=\"alpha\", figsize=(9, 5))\n",
    "ax = fig.axes[0]\n",
    "ax.axvline(x=alpha1, color=\"C0\", linestyle=\"--\", label=r\"$\\alpha_1$\")\n",
    "ax.axvline(x=alpha2, color=\"C1\", linestyle=\"--\", label=r\"$\\alpha_2$\")\n",
    "ax.legend(loc=\"upper right\");"
   ]
  },
  {
   "cell_type": "code",
   "execution_count": null,
   "metadata": {},
   "outputs": [],
   "source": [
    "lam1 = 0.5 # dummy\n",
    "lam2 = 0.7 # dummy\n",
    "\n",
    "fig = mmm.plot_channel_parameter(param_name=\"lam\", figsize=(9, 5))\n",
    "ax = fig.axes[0]\n",
    "ax.axvline(x=lam1, color=\"C0\", linestyle=\"--\", label=r\"$\\lambda_1$\")\n",
    "ax.axvline(x=lam2, color=\"C1\", linestyle=\"--\", label=r\"$\\lambda_2$\")\n",
    "ax.legend(loc=\"upper right\");"
   ]
  },
  {
   "cell_type": "code",
   "execution_count": null,
   "metadata": {},
   "outputs": [],
   "source": [
    "fig = mmm.plot_channel_contribution_share_hdi(figsize=(7, 5))\n",
    "ax = fig.axes[0]\n",
    "ax.axvline(\n",
    "    x=contribution_share_x1,\n",
    "    color=\"C1\",\n",
    "    linestyle=\"--\",\n",
    "    label=\"true contribution share ($x_1$)\",\n",
    ")\n",
    "ax.axvline(\n",
    "    x=contribution_share_x2,\n",
    "    color=\"C2\",\n",
    "    linestyle=\"--\",\n",
    "    label=\"true contribution share ($x_2$)\",\n",
    ")\n",
    "ax.legend(loc=\"upper center\", bbox_to_anchor=(0.5, -0.05), ncol=1);"
   ]
  },
  {
   "cell_type": "code",
   "execution_count": null,
   "metadata": {},
   "outputs": [],
   "source": [
    "fig = mmm.plot_direct_contribution_curves()\n",
    "[ax.set(xlabel=\"x\") for ax in fig.axes];"
   ]
  },
  {
   "cell_type": "code",
   "execution_count": null,
   "metadata": {},
   "outputs": [],
   "source": [
    "mmm.plot_channel_contributions_grid(start=0, stop=1.5, num=12);"
   ]
  },
  {
   "cell_type": "code",
   "execution_count": null,
   "metadata": {},
   "outputs": [],
   "source": [
    "mmm.plot_channel_contributions_grid(start=0, stop=1.5, num=12, absolute_xrange=True);"
   ]
  },
  {
   "cell_type": "code",
   "execution_count": null,
   "metadata": {},
   "outputs": [],
   "source": [
    "df"
   ]
  },
  {
   "cell_type": "code",
   "execution_count": null,
   "metadata": {},
   "outputs": [],
   "source": [
    "channels_contribution_original_scale = mmm.compute_channel_contribution_original_scale()\n",
    "channels_contribution_original_scale_hdi = az.hdi(\n",
    "    ary=channels_contribution_original_scale\n",
    ")\n",
    "\n",
    "fig, ax = plt.subplots(\n",
    "    nrows=2, figsize=(15, 8), ncols=1, sharex=True, sharey=False, layout=\"constrained\"\n",
    ")\n",
    "\n",
    "for i, x in enumerate([\"x1\", \"x2\"]):\n",
    "    # Estimate true contribution in the original scale from the data generating process\n",
    "    sns.lineplot(\n",
    "        x=df[\"date\"],\n",
    "        y=amplitude * betas[i] * df[f\"{x}\"],\n",
    "        color=\"black\",\n",
    "        label=f\"{x} true contribution\",\n",
    "        ax=ax[i],\n",
    "    )\n",
    "    # HDI estimated contribution in the original scale\n",
    "    ax[i].fill_between(\n",
    "        x=df[\"date\"],\n",
    "        y1=channels_contribution_original_scale_hdi.sel(channel=x)[\"x\"][:, 0],\n",
    "        y2=channels_contribution_original_scale_hdi.sel(channel=x)[\"x\"][:, 1],\n",
    "        color=f\"C{i}\",\n",
    "        label=rf\"{x} $94\\%$ HDI contribution\",\n",
    "        alpha=0.4,\n",
    "    )\n",
    "    # Mean estimated contribution in the original scale\n",
    "    sns.lineplot(\n",
    "        x=df[\"date\"],\n",
    "        y=get_mean_contributions_over_time_df[x].to_numpy(),\n",
    "        color=f\"C{i}\",\n",
    "        label=f\"{x} posterior mean contribution\",\n",
    "        alpha=0.8,\n",
    "        ax=ax[i],\n",
    "    )\n",
    "    ax[i].legend(loc=\"center left\", bbox_to_anchor=(1, 0.5))\n",
    "    ax[i].set(title=f\"Channel {x}\")"
   ]
  },
  {
   "cell_type": "code",
   "execution_count": null,
   "metadata": {},
   "outputs": [],
   "source": [
    "channel_contribution_original_scale = mmm.compute_channel_contribution_original_scale()\n",
    "\n",
    "roas_samples = (\n",
    "    channel_contribution_original_scale.stack(sample=(\"chain\", \"draw\")).sum(\"date\")\n",
    "    / data[[\"x1\", \"x2\"]].sum().to_numpy()[..., None]\n",
    ")\n",
    "\n",
    "fig, ax = plt.subplots(figsize=(10, 6))\n",
    "sns.histplot(\n",
    "    roas_samples.sel(channel=\"x1\").to_numpy(), binwidth=0.01, alpha=0.3, kde=True, ax=ax\n",
    ")\n",
    "sns.histplot(\n",
    "    roas_samples.sel(channel=\"x2\").to_numpy(), binwidth=0.01, alpha=0.3, kde=True, ax=ax\n",
    ")\n",
    "ax.axvline(x=roas_1, color=\"C0\", linestyle=\"--\", label=r\"true ROAS $x_{1}$\")\n",
    "ax.axvline(x=roas_2, color=\"C1\", linestyle=\"--\", label=r\"true ROAS $x_{2}$\")\n",
    "ax.legend(loc=\"center left\", bbox_to_anchor=(1, 0.5))\n",
    "ax.set(title=\"Posterior ROAS distribution\", xlabel=\"ROAS\");"
   ]
  },
  {
   "cell_type": "code",
   "execution_count": null,
   "metadata": {},
   "outputs": [],
   "source": [
    "last_date = X[\"date\"].max()\n",
    "\n",
    "# New dates starting from last in dataset\n",
    "n_new = 5\n",
    "new_dates = pd.date_range(start=last_date, periods=1 + n_new, freq=\"D\")[1:]\n",
    "\n",
    "X_out_of_sample = pd.DataFrame(\n",
    "    {\n",
    "        \"date\": new_dates,\n",
    "    }\n",
    ")\n",
    "\n",
    "# Same channel spends as last day\n",
    "X_out_of_sample[\"x1\"] = X[\"x1\"].iloc[-1]\n",
    "X_out_of_sample[\"x2\"] = X[\"x2\"].iloc[-1]\n",
    "\n",
    "\n",
    "X_out_of_sample"
   ]
  },
  {
   "cell_type": "code",
   "execution_count": null,
   "metadata": {},
   "outputs": [],
   "source": [
    "X_out_of_sample.info()"
   ]
  },
  {
   "cell_type": "code",
   "execution_count": null,
   "metadata": {},
   "outputs": [],
   "source": [
    "y_out_of_sample = mmm.sample_posterior_predictive(\n",
    "    X_pred=X_out_of_sample, extend_idata=False\n",
    ")\n",
    "\n",
    "y_out_of_sample"
   ]
  },
  {
   "cell_type": "code",
   "execution_count": null,
   "metadata": {},
   "outputs": [],
   "source": [
    "def plot_in_sample(X, y, ax, n_points: int = 15):\n",
    "    (\n",
    "        y.to_frame()\n",
    "        .set_index(X[\"date\"])\n",
    "        .iloc[-n_points:]\n",
    "        .plot(ax=ax, marker=\"o\", color=\"black\", label=\"actuals\")\n",
    "    )\n",
    "    return ax\n",
    "\n",
    "\n",
    "def plot_out_of_sample(X_out_of_sample, y_out_of_sample, ax, color, label):\n",
    "    y_out_of_sample_groupby = y_out_of_sample[\"y\"].to_series().groupby(\"date\")\n",
    "\n",
    "    lower, upper = quantiles = [0.025, 0.975]\n",
    "    conf = y_out_of_sample_groupby.quantile(quantiles).unstack()\n",
    "    ax.fill_between(\n",
    "        X_out_of_sample[\"date\"].dt.to_pydatetime(),\n",
    "        conf[lower],\n",
    "        conf[upper],\n",
    "        alpha=0.25,\n",
    "        color=color,\n",
    "        label=f\"{label} interval\",\n",
    "    )\n",
    "\n",
    "    mean = y_out_of_sample_groupby.mean()\n",
    "    mean.plot(ax=ax, marker=\"o\", label=label, color=color, linestyle=\"--\")\n",
    "    ax.set(ylabel=\"Original Target Scale\", title=\"Out of sample predictions for MMM\")\n",
    "    return ax\n",
    "\n",
    "\n",
    "_, ax = plt.subplots()\n",
    "plot_in_sample(X, y, ax=ax)\n",
    "plot_out_of_sample(\n",
    "    X_out_of_sample, y_out_of_sample, ax=ax, label=\"out of sample\", color=\"C0\"\n",
    ")\n",
    "ax.legend(loc=\"upper left\");"
   ]
  },
  {
   "cell_type": "code",
   "execution_count": null,
   "metadata": {},
   "outputs": [],
   "source": [
    "y_out_of_sample_with_adstock = mmm.sample_posterior_predictive(\n",
    "    X_pred=X_out_of_sample, extend_idata=False, include_last_observations=True\n",
    ")"
   ]
  },
  {
   "cell_type": "code",
   "execution_count": null,
   "metadata": {},
   "outputs": [],
   "source": [
    "_, ax = plt.subplots()\n",
    "plot_in_sample(X, y, ax=ax)\n",
    "plot_out_of_sample(\n",
    "    X_out_of_sample, y_out_of_sample, ax=ax, label=\"out of sample\", color=\"C0\"\n",
    ")\n",
    "plot_out_of_sample(\n",
    "    X_out_of_sample,\n",
    "    y_out_of_sample_with_adstock,\n",
    "    ax=ax,\n",
    "    label=\"adstock out of sample\",\n",
    "    color=\"C1\",\n",
    ")\n",
    "ax.legend();"
   ]
  },
  {
   "cell_type": "code",
   "execution_count": null,
   "metadata": {},
   "outputs": [],
   "source": [
    "spends = [0.3, 0.5, 1, 2]\n",
    "\n",
    "fig, axes = plt.subplots(\n",
    "    nrows=len(spends),\n",
    "    ncols=1,\n",
    "    figsize=(11, 9),\n",
    "    sharex=True,\n",
    "    sharey=True,\n",
    "    layout=\"constrained\",\n",
    ")\n",
    "\n",
    "axes = axes.flatten()\n",
    "\n",
    "for ax, spend in zip(axes, spends, strict=True):\n",
    "    mmm.plot_new_spend_contributions(spend_amount=spend, progressbar=False, ax=ax)\n",
    "\n",
    "fig.suptitle(\"New Spend Contribution Simulations\", fontsize=18, fontweight=\"bold\");"
   ]
  },
  {
   "cell_type": "code",
   "execution_count": null,
   "metadata": {},
   "outputs": [],
   "source": []
  }
 ],
 "metadata": {
  "kernelspec": {
   "display_name": "mmm-experiments-PvlroFJ7-py3.12",
   "language": "python",
   "name": "python3"
  },
  "language_info": {
   "codemirror_mode": {
    "name": "ipython",
    "version": 3
   },
   "file_extension": ".py",
   "mimetype": "text/x-python",
   "name": "python",
   "nbconvert_exporter": "python",
   "pygments_lexer": "ipython3",
   "version": "3.12.4"
  }
 },
 "nbformat": 4,
 "nbformat_minor": 2
}
