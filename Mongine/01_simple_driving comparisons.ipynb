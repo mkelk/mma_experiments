{
 "cells": [
  {
   "cell_type": "markdown",
   "metadata": {},
   "source": [
    "# 01. Load Data"
   ]
  },
  {
   "cell_type": "markdown",
   "metadata": {},
   "source": [
    "02. Load CSV files into Dataframes and optionally process"
   ]
  },
  {
   "cell_type": "code",
   "execution_count": 9,
   "metadata": {},
   "outputs": [
    {
     "name": "stdout",
     "output_type": "stream",
     "text": [
      "The autoreload extension is already loaded. To reload it, use:\n",
      "  %reload_ext autoreload\n"
     ]
    }
   ],
   "source": [
    "import pandas as pd\n",
    "from matplotlib import pyplot as plt\n",
    "import seaborn as sns\n",
    "import pymc as pm\n",
    "import arviz as az\n",
    "\n",
    "import datautil as du\n",
    "from analysis_util_01 import MMM, MMMChannelsStraight\n",
    "\n",
    "%load_ext autoreload\n",
    "%autoreload 2"
   ]
  },
  {
   "cell_type": "code",
   "execution_count": 10,
   "metadata": {},
   "outputs": [
    {
     "data": {
      "text/html": [
       "<div>\n",
       "<style scoped>\n",
       "    .dataframe tbody tr th:only-of-type {\n",
       "        vertical-align: middle;\n",
       "    }\n",
       "\n",
       "    .dataframe tbody tr th {\n",
       "        vertical-align: top;\n",
       "    }\n",
       "\n",
       "    .dataframe thead th {\n",
       "        text-align: right;\n",
       "    }\n",
       "</style>\n",
       "<table border=\"1\" class=\"dataframe\">\n",
       "  <thead>\n",
       "    <tr style=\"text-align: right;\">\n",
       "      <th></th>\n",
       "      <th>date</th>\n",
       "      <th>spend_fb</th>\n",
       "      <th>spend_google</th>\n",
       "      <th>sales</th>\n",
       "    </tr>\n",
       "    <tr>\n",
       "      <th>dt</th>\n",
       "      <th></th>\n",
       "      <th></th>\n",
       "      <th></th>\n",
       "      <th></th>\n",
       "    </tr>\n",
       "  </thead>\n",
       "  <tbody>\n",
       "    <tr>\n",
       "      <th>2023-09-13</th>\n",
       "      <td>2023-09-13</td>\n",
       "      <td>1044.52</td>\n",
       "      <td>17731.458630</td>\n",
       "      <td>125087.3010</td>\n",
       "    </tr>\n",
       "    <tr>\n",
       "      <th>2023-09-14</th>\n",
       "      <td>2023-09-14</td>\n",
       "      <td>746.37</td>\n",
       "      <td>15614.170441</td>\n",
       "      <td>142865.4874</td>\n",
       "    </tr>\n",
       "    <tr>\n",
       "      <th>2023-09-15</th>\n",
       "      <td>2023-09-15</td>\n",
       "      <td>0.00</td>\n",
       "      <td>11892.922135</td>\n",
       "      <td>200679.1577</td>\n",
       "    </tr>\n",
       "    <tr>\n",
       "      <th>2023-09-16</th>\n",
       "      <td>2023-09-16</td>\n",
       "      <td>0.00</td>\n",
       "      <td>10958.380107</td>\n",
       "      <td>120231.9569</td>\n",
       "    </tr>\n",
       "    <tr>\n",
       "      <th>2023-09-17</th>\n",
       "      <td>2023-09-17</td>\n",
       "      <td>0.00</td>\n",
       "      <td>14914.932425</td>\n",
       "      <td>166163.5059</td>\n",
       "    </tr>\n",
       "  </tbody>\n",
       "</table>\n",
       "</div>"
      ],
      "text/plain": [
       "                 date  spend_fb  spend_google        sales\n",
       "dt                                                        \n",
       "2023-09-13 2023-09-13   1044.52  17731.458630  125087.3010\n",
       "2023-09-14 2023-09-14    746.37  15614.170441  142865.4874\n",
       "2023-09-15 2023-09-15      0.00  11892.922135  200679.1577\n",
       "2023-09-16 2023-09-16      0.00  10958.380107  120231.9569\n",
       "2023-09-17 2023-09-17      0.00  14914.932425  166163.5059"
      ]
     },
     "execution_count": 10,
     "metadata": {},
     "output_type": "execute_result"
    }
   ],
   "source": [
    "data = du.get_collected_dataframe()\n",
    "# create an index col for easy plotting\n",
    "data['dt'] = data['date']\n",
    "data.set_index('dt', inplace=True)\n",
    "data.head()"
   ]
  },
  {
   "cell_type": "markdown",
   "metadata": {},
   "source": [
    "# 02. Model and comparisons"
   ]
  },
  {
   "cell_type": "code",
   "execution_count": 11,
   "metadata": {},
   "outputs": [],
   "source": [
    "models = {}"
   ]
  },
  {
   "cell_type": "markdown",
   "metadata": {},
   "source": [
    "## Add fitted models"
   ]
  },
  {
   "cell_type": "code",
   "execution_count": 12,
   "metadata": {},
   "outputs": [],
   "source": [
    "def add_model(models, name, mmm):\n",
    "    models[name] = mmm\n",
    "    mmm.fit(progressbar=False)\n",
    "    with mmm.model:\n",
    "        if \"log_likelihood\" not in mmm.idata:\n",
    "            pm.compute_log_likelihood(mmm.idata, progressbar=False)"
   ]
  },
  {
   "cell_type": "code",
   "execution_count": 13,
   "metadata": {},
   "outputs": [
    {
     "name": "stderr",
     "output_type": "stream",
     "text": [
      "Auto-assigning NUTS sampler...\n",
      "Initializing NUTS using jitter+adapt_diag...\n",
      "Multiprocess sampling (2 chains in 2 jobs)\n",
      "NUTS: [sigma, beta]\n",
      "Sampling 2 chains for 1_000 tune and 1_000 draw iterations (2_000 + 2_000 draws total) took 1 seconds.\n",
      "We recommend running at least 4 chains for robust computation of convergence diagnostics\n"
     ]
    }
   ],
   "source": [
    "add_model(models, \"plain_fb\", MMMChannelsStraight(data, [\"spend_fb\"]))"
   ]
  },
  {
   "cell_type": "code",
   "execution_count": 14,
   "metadata": {},
   "outputs": [
    {
     "name": "stderr",
     "output_type": "stream",
     "text": [
      "Auto-assigning NUTS sampler...\n",
      "Initializing NUTS using jitter+adapt_diag...\n",
      "Multiprocess sampling (2 chains in 2 jobs)\n",
      "NUTS: [sigma, beta]\n",
      "Sampling 2 chains for 1_000 tune and 1_000 draw iterations (2_000 + 2_000 draws total) took 1 seconds.\n",
      "We recommend running at least 4 chains for robust computation of convergence diagnostics\n"
     ]
    }
   ],
   "source": [
    "add_model(models, \"plain_google\", MMMChannelsStraight(data, [\"spend_google\"]))"
   ]
  },
  {
   "cell_type": "code",
   "execution_count": 15,
   "metadata": {},
   "outputs": [
    {
     "name": "stderr",
     "output_type": "stream",
     "text": [
      "Auto-assigning NUTS sampler...\n",
      "Initializing NUTS using jitter+adapt_diag...\n",
      "Multiprocess sampling (2 chains in 2 jobs)\n",
      "NUTS: [intercept, sigma, beta]\n",
      "Sampling 2 chains for 1_000 tune and 1_000 draw iterations (2_000 + 2_000 draws total) took 2 seconds.\n",
      "We recommend running at least 4 chains for robust computation of convergence diagnostics\n"
     ]
    }
   ],
   "source": [
    "add_model(models, \"plain_google_fb\", MMMChannelsStraight(data, [\"spend_google\"], [\"spend_fb\"]))"
   ]
  },
  {
   "cell_type": "code",
   "execution_count": 16,
   "metadata": {},
   "outputs": [
    {
     "name": "stderr",
     "output_type": "stream",
     "text": [
      "Auto-assigning NUTS sampler...\n",
      "Initializing NUTS using jitter+adapt_diag...\n",
      "Multiprocess sampling (2 chains in 2 jobs)\n",
      "NUTS: [intercept, sigma, beta]\n",
      "Sampling 2 chains for 1_000 tune and 1_000 draw iterations (2_000 + 2_000 draws total) took 3 seconds.\n",
      "We recommend running at least 4 chains for robust computation of convergence diagnostics\n"
     ]
    }
   ],
   "source": [
    "add_model(models, \"plain_fb_google_intercept\", MMMChannelsStraight(data, [\"spend_fb\", \"spend_google\"], allowIntercept=True))"
   ]
  },
  {
   "cell_type": "code",
   "execution_count": 17,
   "metadata": {},
   "outputs": [
    {
     "name": "stderr",
     "output_type": "stream",
     "text": [
      "Auto-assigning NUTS sampler...\n",
      "Initializing NUTS using jitter+adapt_diag...\n",
      "Multiprocess sampling (2 chains in 2 jobs)\n",
      "NUTS: [intercept, sigma, beta]\n",
      "Sampling 2 chains for 1_000 tune and 1_000 draw iterations (2_000 + 2_000 draws total) took 2 seconds.\n",
      "We recommend running at least 4 chains for robust computation of convergence diagnostics\n"
     ]
    }
   ],
   "source": [
    "add_model(models, \"plain_fb_intercept\", MMMChannelsStraight(data, [\"spend_fb\"], allowIntercept=True))"
   ]
  },
  {
   "cell_type": "code",
   "execution_count": 24,
   "metadata": {},
   "outputs": [
    {
     "name": "stderr",
     "output_type": "stream",
     "text": [
      "Auto-assigning NUTS sampler...\n",
      "Initializing NUTS using jitter+adapt_diag...\n",
      "Multiprocess sampling (2 chains in 2 jobs)\n",
      "NUTS: [intercept, sigma, beta, alpha, lam]\n",
      "Sampling 2 chains for 1_000 tune and 1_000 draw iterations (2_000 + 2_000 draws total) took 15 seconds.\n",
      "We recommend running at least 4 chains for robust computation of convergence diagnostics\n"
     ]
    }
   ],
   "source": [
    "add_model(models, \"plain_fb_google_intercept_adstock\", MMMChannelsStraight(data, [\"spend_fb\", \"spend_google\"], allowIntercept=True, allowAdstockAndSat=True))"
   ]
  },
  {
   "cell_type": "markdown",
   "metadata": {},
   "source": [
    "## Do log-likelihood for all models"
   ]
  },
  {
   "cell_type": "code",
   "execution_count": 25,
   "metadata": {},
   "outputs": [
    {
     "name": "stderr",
     "output_type": "stream",
     "text": [
      "/root/.cache/pypoetry/virtualenvs/mmm-experiments-PvlroFJ7-py3.12/lib/python3.12/site-packages/arviz/stats/stats.py:789: UserWarning: Estimated shape parameter of Pareto distribution is greater than 0.7 for one or more samples. You should consider using a more robust model, this is because importance sampling is less likely to work well if the marginal posterior and LOO posterior are very different. This is more likely to happen with a non-robust model and highly influential observations.\n",
      "  warnings.warn(\n",
      "/root/.cache/pypoetry/virtualenvs/mmm-experiments-PvlroFJ7-py3.12/lib/python3.12/site-packages/arviz/stats/stats.py:789: UserWarning: Estimated shape parameter of Pareto distribution is greater than 0.7 for one or more samples. You should consider using a more robust model, this is because importance sampling is less likely to work well if the marginal posterior and LOO posterior are very different. This is more likely to happen with a non-robust model and highly influential observations.\n",
      "  warnings.warn(\n",
      "/root/.cache/pypoetry/virtualenvs/mmm-experiments-PvlroFJ7-py3.12/lib/python3.12/site-packages/arviz/stats/stats.py:789: UserWarning: Estimated shape parameter of Pareto distribution is greater than 0.7 for one or more samples. You should consider using a more robust model, this is because importance sampling is less likely to work well if the marginal posterior and LOO posterior are very different. This is more likely to happen with a non-robust model and highly influential observations.\n",
      "  warnings.warn(\n",
      "/root/.cache/pypoetry/virtualenvs/mmm-experiments-PvlroFJ7-py3.12/lib/python3.12/site-packages/arviz/stats/stats.py:789: UserWarning: Estimated shape parameter of Pareto distribution is greater than 0.7 for one or more samples. You should consider using a more robust model, this is because importance sampling is less likely to work well if the marginal posterior and LOO posterior are very different. This is more likely to happen with a non-robust model and highly influential observations.\n",
      "  warnings.warn(\n",
      "/root/.cache/pypoetry/virtualenvs/mmm-experiments-PvlroFJ7-py3.12/lib/python3.12/site-packages/arviz/stats/stats.py:789: UserWarning: Estimated shape parameter of Pareto distribution is greater than 0.7 for one or more samples. You should consider using a more robust model, this is because importance sampling is less likely to work well if the marginal posterior and LOO posterior are very different. This is more likely to happen with a non-robust model and highly influential observations.\n",
      "  warnings.warn(\n",
      "/root/.cache/pypoetry/virtualenvs/mmm-experiments-PvlroFJ7-py3.12/lib/python3.12/site-packages/arviz/stats/stats.py:789: UserWarning: Estimated shape parameter of Pareto distribution is greater than 0.7 for one or more samples. You should consider using a more robust model, this is because importance sampling is less likely to work well if the marginal posterior and LOO posterior are very different. This is more likely to happen with a non-robust model and highly influential observations.\n",
      "  warnings.warn(\n",
      "/root/.cache/pypoetry/virtualenvs/mmm-experiments-PvlroFJ7-py3.12/lib/python3.12/site-packages/arviz/stats/stats.py:789: UserWarning: Estimated shape parameter of Pareto distribution is greater than 0.7 for one or more samples. You should consider using a more robust model, this is because importance sampling is less likely to work well if the marginal posterior and LOO posterior are very different. This is more likely to happen with a non-robust model and highly influential observations.\n",
      "  warnings.warn(\n"
     ]
    },
    {
     "data": {
      "text/html": [
       "<div>\n",
       "<style scoped>\n",
       "    .dataframe tbody tr th:only-of-type {\n",
       "        vertical-align: middle;\n",
       "    }\n",
       "\n",
       "    .dataframe tbody tr th {\n",
       "        vertical-align: top;\n",
       "    }\n",
       "\n",
       "    .dataframe thead th {\n",
       "        text-align: right;\n",
       "    }\n",
       "</style>\n",
       "<table border=\"1\" class=\"dataframe\">\n",
       "  <thead>\n",
       "    <tr style=\"text-align: right;\">\n",
       "      <th></th>\n",
       "      <th>rank</th>\n",
       "      <th>elpd_loo</th>\n",
       "      <th>p_loo</th>\n",
       "      <th>elpd_diff</th>\n",
       "      <th>weight</th>\n",
       "      <th>se</th>\n",
       "      <th>dse</th>\n",
       "      <th>warning</th>\n",
       "      <th>scale</th>\n",
       "    </tr>\n",
       "  </thead>\n",
       "  <tbody>\n",
       "    <tr>\n",
       "      <th>plain_fb_google_intercept_adstock</th>\n",
       "      <td>0</td>\n",
       "      <td>-119.228462</td>\n",
       "      <td>16.469493</td>\n",
       "      <td>0.000000</td>\n",
       "      <td>9.347900e-01</td>\n",
       "      <td>35.107004</td>\n",
       "      <td>0.000000</td>\n",
       "      <td>True</td>\n",
       "      <td>log</td>\n",
       "    </tr>\n",
       "    <tr>\n",
       "      <th>plain_fb_google_intercept</th>\n",
       "      <td>1</td>\n",
       "      <td>-125.889283</td>\n",
       "      <td>14.157204</td>\n",
       "      <td>6.660822</td>\n",
       "      <td>3.440669e-02</td>\n",
       "      <td>32.913741</td>\n",
       "      <td>6.574807</td>\n",
       "      <td>True</td>\n",
       "      <td>log</td>\n",
       "    </tr>\n",
       "    <tr>\n",
       "      <th>plain_fb_intercept</th>\n",
       "      <td>2</td>\n",
       "      <td>-135.773153</td>\n",
       "      <td>13.176953</td>\n",
       "      <td>16.544691</td>\n",
       "      <td>6.757313e-11</td>\n",
       "      <td>33.885306</td>\n",
       "      <td>5.220061</td>\n",
       "      <td>True</td>\n",
       "      <td>log</td>\n",
       "    </tr>\n",
       "    <tr>\n",
       "      <th>plain_fb_intercept_adstock</th>\n",
       "      <td>3</td>\n",
       "      <td>-136.043736</td>\n",
       "      <td>13.596200</td>\n",
       "      <td>16.815274</td>\n",
       "      <td>6.762165e-11</td>\n",
       "      <td>33.960354</td>\n",
       "      <td>5.192168</td>\n",
       "      <td>True</td>\n",
       "      <td>log</td>\n",
       "    </tr>\n",
       "    <tr>\n",
       "      <th>plain_google_fb</th>\n",
       "      <td>4</td>\n",
       "      <td>-156.494394</td>\n",
       "      <td>12.026342</td>\n",
       "      <td>37.265932</td>\n",
       "      <td>6.847521e-11</td>\n",
       "      <td>32.693687</td>\n",
       "      <td>11.608659</td>\n",
       "      <td>True</td>\n",
       "      <td>log</td>\n",
       "    </tr>\n",
       "    <tr>\n",
       "      <th>plain_google</th>\n",
       "      <td>5</td>\n",
       "      <td>-212.050786</td>\n",
       "      <td>8.412468</td>\n",
       "      <td>92.822324</td>\n",
       "      <td>9.560053e-13</td>\n",
       "      <td>26.462381</td>\n",
       "      <td>32.532400</td>\n",
       "      <td>True</td>\n",
       "      <td>log</td>\n",
       "    </tr>\n",
       "    <tr>\n",
       "      <th>plain_fb</th>\n",
       "      <td>6</td>\n",
       "      <td>-271.875583</td>\n",
       "      <td>12.376163</td>\n",
       "      <td>152.647121</td>\n",
       "      <td>3.080331e-02</td>\n",
       "      <td>28.713225</td>\n",
       "      <td>39.421867</td>\n",
       "      <td>True</td>\n",
       "      <td>log</td>\n",
       "    </tr>\n",
       "  </tbody>\n",
       "</table>\n",
       "</div>"
      ],
      "text/plain": [
       "                                   rank    elpd_loo      p_loo   elpd_diff  \\\n",
       "plain_fb_google_intercept_adstock     0 -119.228462  16.469493    0.000000   \n",
       "plain_fb_google_intercept             1 -125.889283  14.157204    6.660822   \n",
       "plain_fb_intercept                    2 -135.773153  13.176953   16.544691   \n",
       "plain_fb_intercept_adstock            3 -136.043736  13.596200   16.815274   \n",
       "plain_google_fb                       4 -156.494394  12.026342   37.265932   \n",
       "plain_google                          5 -212.050786   8.412468   92.822324   \n",
       "plain_fb                              6 -271.875583  12.376163  152.647121   \n",
       "\n",
       "                                         weight         se        dse  \\\n",
       "plain_fb_google_intercept_adstock  9.347900e-01  35.107004   0.000000   \n",
       "plain_fb_google_intercept          3.440669e-02  32.913741   6.574807   \n",
       "plain_fb_intercept                 6.757313e-11  33.885306   5.220061   \n",
       "plain_fb_intercept_adstock         6.762165e-11  33.960354   5.192168   \n",
       "plain_google_fb                    6.847521e-11  32.693687  11.608659   \n",
       "plain_google                       9.560053e-13  26.462381  32.532400   \n",
       "plain_fb                           3.080331e-02  28.713225  39.421867   \n",
       "\n",
       "                                   warning scale  \n",
       "plain_fb_google_intercept_adstock     True   log  \n",
       "plain_fb_google_intercept             True   log  \n",
       "plain_fb_intercept                    True   log  \n",
       "plain_fb_intercept_adstock            True   log  \n",
       "plain_google_fb                       True   log  \n",
       "plain_google                          True   log  \n",
       "plain_fb                              True   log  "
      ]
     },
     "execution_count": 25,
     "metadata": {},
     "output_type": "execute_result"
    }
   ],
   "source": [
    "df_comp_loo = az.compare({k: v.idata for k, v in models.items()})\n",
    "df_comp_loo"
   ]
  },
  {
   "cell_type": "code",
   "execution_count": 26,
   "metadata": {},
   "outputs": [
    {
     "data": {
      "image/png": "[encoded data removed]",
      "text/plain": [
       "<Figure size 600x700 with 1 Axes>"
      ]
     },
     "metadata": {},
     "output_type": "display_data"
    }
   ],
   "source": [
    "az.plot_compare(df_comp_loo, insample_dev=False);"
   ]
  },
  {
   "cell_type": "code",
   "execution_count": null,
   "metadata": {},
   "outputs": [],
   "source": []
  }
 ],
 "metadata": {
  "kernelspec": {
   "display_name": "mmm-experiments-PvlroFJ7-py3.12",
   "language": "python",
   "name": "python3"
  },
  "language_info": {
   "codemirror_mode": {
    "name": "ipython",
    "version": 3
   },
   "file_extension": ".py",
   "mimetype": "text/x-python",
   "name": "python",
   "nbconvert_exporter": "python",
   "pygments_lexer": "ipython3",
   "version": "3.12.4"
  }
 },
 "nbformat": 4,
 "nbformat_minor": 2
}
