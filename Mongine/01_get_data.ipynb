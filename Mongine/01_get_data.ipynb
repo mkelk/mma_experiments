{
 "cells": [
  {
   "cell_type": "markdown",
   "metadata": {},
   "source": [
    "# 01. Load raw CSV files\n",
    "\n",
    "Export from BQ via \n",
    "1. Do query (all rows)\n",
    "1. Export to Drive\n",
    "1. Download from Drive\n",
    "1. Rename to `{date}-{BQtablename}.csv`\n",
    "1. Import to VS Code\n",
    "\n",
    "Files for fermliving\n",
    "- `{date}_fermliving_googleads_campaign_stats.csv`\n",
    "- `{date}_fermliving_facebook_ad_stats.csv`\n",
    "- `{date}_fermliving_shopify_order_analytics.csv`\n"
   ]
  },
  {
   "cell_type": "markdown",
   "metadata": {},
   "source": [
    "02. Load CSV files into Dataframes and optionally process"
   ]
  },
  {
   "cell_type": "code",
   "execution_count": 1,
   "metadata": {},
   "outputs": [],
   "source": [
    "import pandas as pd\n",
    "import datautil as du\n",
    "\n",
    "%load_ext autoreload\n",
    "%autoreload 2"
   ]
  },
  {
   "cell_type": "code",
   "execution_count": 23,
   "metadata": {},
   "outputs": [],
   "source": [
    "files = du.FILES\n",
    "df_fb = du.get_engineered_file('facebook')\n",
    "df_google = du.get_engineered_file('google')\n",
    "df_shopify = du.get_engineered_file('shopify')"
   ]
  },
  {
   "cell_type": "code",
   "execution_count": 24,
   "metadata": {},
   "outputs": [
    {
     "data": {
      "text/html": [
       "<div>\n",
       "<style scoped>\n",
       "    .dataframe tbody tr th:only-of-type {\n",
       "        vertical-align: middle;\n",
       "    }\n",
       "\n",
       "    .dataframe tbody tr th {\n",
       "        vertical-align: top;\n",
       "    }\n",
       "\n",
       "    .dataframe thead th {\n",
       "        text-align: right;\n",
       "    }\n",
       "</style>\n",
       "<table border=\"1\" class=\"dataframe\">\n",
       "  <thead>\n",
       "    <tr style=\"text-align: right;\">\n",
       "      <th></th>\n",
       "      <th>date</th>\n",
       "      <th>spend_fb</th>\n",
       "      <th>spend_google</th>\n",
       "      <th>sales</th>\n",
       "    </tr>\n",
       "  </thead>\n",
       "  <tbody>\n",
       "    <tr>\n",
       "      <th>460</th>\n",
       "      <td>2023-09-13</td>\n",
       "      <td>1044.52</td>\n",
       "      <td>17731.458630</td>\n",
       "      <td>125087.3010</td>\n",
       "    </tr>\n",
       "    <tr>\n",
       "      <th>461</th>\n",
       "      <td>2023-09-14</td>\n",
       "      <td>746.37</td>\n",
       "      <td>15614.170441</td>\n",
       "      <td>142865.4874</td>\n",
       "    </tr>\n",
       "    <tr>\n",
       "      <th>462</th>\n",
       "      <td>2023-09-15</td>\n",
       "      <td>0.00</td>\n",
       "      <td>11892.922135</td>\n",
       "      <td>200679.1577</td>\n",
       "    </tr>\n",
       "    <tr>\n",
       "      <th>463</th>\n",
       "      <td>2023-09-16</td>\n",
       "      <td>0.00</td>\n",
       "      <td>10958.380107</td>\n",
       "      <td>120231.9569</td>\n",
       "    </tr>\n",
       "    <tr>\n",
       "      <th>464</th>\n",
       "      <td>2023-09-17</td>\n",
       "      <td>0.00</td>\n",
       "      <td>14914.932425</td>\n",
       "      <td>166163.5059</td>\n",
       "    </tr>\n",
       "    <tr>\n",
       "      <th>...</th>\n",
       "      <td>...</td>\n",
       "      <td>...</td>\n",
       "      <td>...</td>\n",
       "      <td>...</td>\n",
       "    </tr>\n",
       "    <tr>\n",
       "      <th>734</th>\n",
       "      <td>2024-06-13</td>\n",
       "      <td>2246.65</td>\n",
       "      <td>9830.102830</td>\n",
       "      <td>138940.4181</td>\n",
       "    </tr>\n",
       "    <tr>\n",
       "      <th>735</th>\n",
       "      <td>2024-06-14</td>\n",
       "      <td>1800.17</td>\n",
       "      <td>8567.536965</td>\n",
       "      <td>112737.8706</td>\n",
       "    </tr>\n",
       "    <tr>\n",
       "      <th>736</th>\n",
       "      <td>2024-06-15</td>\n",
       "      <td>1568.74</td>\n",
       "      <td>8591.481302</td>\n",
       "      <td>45777.2313</td>\n",
       "    </tr>\n",
       "    <tr>\n",
       "      <th>737</th>\n",
       "      <td>2024-06-16</td>\n",
       "      <td>1796.70</td>\n",
       "      <td>7997.541684</td>\n",
       "      <td>124594.8181</td>\n",
       "    </tr>\n",
       "    <tr>\n",
       "      <th>738</th>\n",
       "      <td>2024-06-17</td>\n",
       "      <td>1425.55</td>\n",
       "      <td>8632.884442</td>\n",
       "      <td>113466.3129</td>\n",
       "    </tr>\n",
       "  </tbody>\n",
       "</table>\n",
       "<p>279 rows × 4 columns</p>\n",
       "</div>"
      ],
      "text/plain": [
       "          date  spend_fb  spend_google        sales\n",
       "460 2023-09-13   1044.52  17731.458630  125087.3010\n",
       "461 2023-09-14    746.37  15614.170441  142865.4874\n",
       "462 2023-09-15      0.00  11892.922135  200679.1577\n",
       "463 2023-09-16      0.00  10958.380107  120231.9569\n",
       "464 2023-09-17      0.00  14914.932425  166163.5059\n",
       "..         ...       ...           ...          ...\n",
       "734 2024-06-13   2246.65   9830.102830  138940.4181\n",
       "735 2024-06-14   1800.17   8567.536965  112737.8706\n",
       "736 2024-06-15   1568.74   8591.481302   45777.2313\n",
       "737 2024-06-16   1796.70   7997.541684  124594.8181\n",
       "738 2024-06-17   1425.55   8632.884442  113466.3129\n",
       "\n",
       "[279 rows x 4 columns]"
      ]
     },
     "execution_count": 24,
     "metadata": {},
     "output_type": "execute_result"
    }
   ],
   "source": [
    "all = du.get_collected_dataframe()\n",
    "all"
   ]
  },
  {
   "cell_type": "code",
   "execution_count": 19,
   "metadata": {},
   "outputs": [
    {
     "data": {
      "text/plain": [
       "date            datetime64[ns]\n",
       "spend_fb               float64\n",
       "spend_google           float64\n",
       "dtype: object"
      ]
     },
     "execution_count": 19,
     "metadata": {},
     "output_type": "execute_result"
    }
   ],
   "source": [
    "all.dtypes"
   ]
  },
  {
   "cell_type": "code",
   "execution_count": null,
   "metadata": {},
   "outputs": [],
   "source": []
  },
  {
   "cell_type": "code",
   "execution_count": null,
   "metadata": {},
   "outputs": [],
   "source": []
  }
 ],
 "metadata": {
  "kernelspec": {
   "display_name": "mmm-experiments-PvlroFJ7-py3.12",
   "language": "python",
   "name": "python3"
  },
  "language_info": {
   "codemirror_mode": {
    "name": "ipython",
    "version": 3
   },
   "file_extension": ".py",
   "mimetype": "text/x-python",
   "name": "python",
   "nbconvert_exporter": "python",
   "pygments_lexer": "ipython3",
   "version": "3.12.4"
  }
 },
 "nbformat": 4,
 "nbformat_minor": 2
}
